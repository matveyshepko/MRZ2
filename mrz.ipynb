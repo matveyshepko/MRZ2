{
 "cells": [
  {
   "cell_type": "code",
   "execution_count": 1,
   "metadata": {},
   "outputs": [],
   "source": [
    "from random import uniform\n",
    "import numpy as np\n",
    "import pandas as pd"
   ]
  },
  {
   "cell_type": "code",
   "execution_count": 2,
   "metadata": {},
   "outputs": [],
   "source": [
    "def writeParameters():\n",
    "    drawMatrix(a, p, m, \"a\");\n",
    "    drawMatrix(b, m, q, \"b\");\n",
    "    drawMatrix(e, 1, m, \"e\");\n",
    "    drawMatrix(g, p, q, \"g\");\n",
    "    drawMatrix(c, p, q, \"c\");\n",
    "    #drawMatrix(timeTable, 3, 6, \"timeTable\");\n",
    "    #drawMatrix(informationTable, 2, 9, \"informationTable\");"
   ]
  },
  {
   "cell_type": "code",
   "execution_count": 3,
   "metadata": {},
   "outputs": [],
   "source": [
    "def drawMatrix(data, rows, columns, tableName):\n",
    "    output = \"\";\n",
    "    \n",
    "    for rowIndex in range(rows):        \n",
    "        for columnIndex in range(columns):\n",
    "            output += str(data[rowIndex][columnIndex]) \n",
    "            output += \" \" \n",
    "        output += \"\\n\" \n",
    "        \n",
    "    print(tableName)\n",
    "    print(output)"
   ]
  },
  {
   "cell_type": "code",
   "execution_count": 4,
   "metadata": {},
   "outputs": [],
   "source": [
    "def generateMatrix(rows, columns):\n",
    "    matrix = np.ndarray((rows,columns))\n",
    "    for rowIndex in range(rows):\n",
    "        for columnIndex in range(columns):\n",
    "            matrix[rowIndex][columnIndex] = uniform(-1, 1);\n",
    "\n",
    "    return matrix;"
   ]
  },
  {
   "cell_type": "code",
   "execution_count": 5,
   "metadata": {},
   "outputs": [],
   "source": [
    "def getDijk():\n",
    "    result = np.ndarray((p, q, m))\n",
    "    for i in range(p):\n",
    "        for j in range(q):\n",
    "            for k in range(m):\n",
    "                result[i][j][k] = notAndAB(a[i][k], b[k][j])            \n",
    "        \n",
    "    \n",
    "    return result;\n"
   ]
  },
  {
   "cell_type": "code",
   "execution_count": 6,
   "metadata": {},
   "outputs": [],
   "source": [
    "def getFijk():\n",
    "    result = np.ndarray((p, q, m))\n",
    "    for i in range(p):\n",
    "        for j in range(q):\n",
    "            for k in range(m):\n",
    "                result[i][j][k] = calculateFijk(i, j, k);          \n",
    "        \n",
    "    \n",
    "    return result;\n"
   ]
  },
  {
   "cell_type": "code",
   "execution_count": 7,
   "metadata": {},
   "outputs": [],
   "source": [
    "def calculateFijk(i, j, k):\n",
    "    global Lsum\n",
    "    global Lavg\n",
    "    global multiplicationCalls\n",
    "    global subtractionCalls\n",
    "    global additionCalls\n",
    "    \n",
    "    Lsum += 7 * multiplicationTime + 2 * additionTime + 3 * subtractionTime;\n",
    "    Lavg += (7 * multiplicationTime + 2 * additionTime + 3 * subtractionTime) * r;\n",
    "    multiplicationCalls += 7;\n",
    "    subtractionCalls += 3;\n",
    "    additionCalls +=2;\n",
    "    return implication(a[i][k], b[k][j]) * (2 * e[0][k] - 1) * e[0][k] + implication(b[k][j], a[i][k]) * (1 + (4 * implication(a[i][k], b[k][j]) - 2) * e[0][k]) * (1 - e[0][k]);\n"
   ]
  },
  {
   "cell_type": "code",
   "execution_count": 8,
   "metadata": {},
   "outputs": [],
   "source": [
    "def getCij():\n",
    "    result = np.ndarray((p, q, m))\n",
    "    for i in range(p):\n",
    "        for j in range(q):\n",
    "            for k in range(m):\n",
    "                result[i][j] = calculateCij(i, j, k);           \n",
    "        \n",
    "    return result;\n"
   ]
  },
  {
   "cell_type": "code",
   "execution_count": 9,
   "metadata": {},
   "outputs": [],
   "source": [
    "#Вычисление одного значения C\n",
    "def calculateCij(i, j, k):\n",
    "    global Lsum\n",
    "    global Lavg\n",
    "    global multiplicationTime\n",
    "    global additionTime\n",
    "    global subtractionTime\n",
    "    global multiplicationCalls\n",
    "    global additionCalls\n",
    "    global subtractionCalls\n",
    "    \n",
    "    \n",
    "    Lsum += 6 * multiplicationTime + 2 * additionTime + 3 * subtractionTime;\n",
    "    Lavg += (6 * multiplicationTime + 2 * additionTime + 3 * subtractionTime) * r;\n",
    "    multiplicationCalls += 6;\n",
    "    additionCalls += 2;\n",
    "    subtractionCalls += 3;\n",
    "    return notAndF(i, j) * (3 * g[i][j] - 2) + (notOrD(i, j) + (4 * multiplicity(i, j, k) - 3 * notOrD(i, j)) * g[i][j]) * (1 - g[i][j]);\n"
   ]
  },
  {
   "cell_type": "code",
   "execution_count": 10,
   "metadata": {},
   "outputs": [],
   "source": [
    "#Вычисление функции не или F\n",
    "def notAndF(i, j):\n",
    "    global Lsum\n",
    "    global Lavg\n",
    "    global multiplicationCalls\n",
    "        \n",
    "    result = 1;\n",
    "    for k in range(m):\n",
    "        Lsum += multiplicationTime;\n",
    "        Lavg += multiplicationTime * r;\n",
    "        multiplicationCalls +=1\n",
    "        result *= f[i][j][k];\n",
    "    \n",
    "    return result;\n"
   ]
  },
  {
   "cell_type": "code",
   "execution_count": 11,
   "metadata": {},
   "outputs": [],
   "source": [
    "#Вычисление функции не или D\n",
    "def notOrD(i, j):\n",
    "    global Lsum\n",
    "    global Lavg\n",
    "    global multiplicationTime\n",
    "    global multiplicationCalls\n",
    "    global subtractionCalls\n",
    "    global subtractionTime\n",
    "    \n",
    "    \n",
    "    result = 1\n",
    "    for k in range(m):\n",
    "        Lsum += multiplicationTime + subtractionTime;\n",
    "        Lavg += (multiplicationTime + subtractionTime) * r;\n",
    "        multiplicationCalls +=1\n",
    "        subtractionCalls +=1\n",
    "        result *= 1 - d[i][j][k];\n",
    "    \n",
    "    return 1 - result\n"
   ]
  },
  {
   "cell_type": "code",
   "execution_count": 12,
   "metadata": {},
   "outputs": [],
   "source": [
    "#Вычисление произведение !F И !D\n",
    "def multiplicity(i, j, k):\n",
    "    global Lsum\n",
    "    global Lavg\n",
    "    global comparisonCalls\n",
    "    \n",
    "    \n",
    "    Lsum += comparisonTime\n",
    "    Lavg += comparisonTime * r\n",
    "    comparisonCalls +=1\n",
    "    return min(notAndF(i, j), notOrD(i, j))\n"
   ]
  },
  {
   "cell_type": "code",
   "execution_count": 13,
   "metadata": {},
   "outputs": [],
   "source": [
    "#Вычисление импликации\n",
    "def implication(arg1, arg2):\n",
    "    global Lsum\n",
    "    global comparisonCalls\n",
    "    global multiplicationCalls\n",
    "    global subtractionCalls\n",
    "    global subtractionCalls\n",
    "    global additionCalls\n",
    "    \n",
    "    Lsum += comparisonTime + multiplicationTime + subtractionTime + additionTime\n",
    "    comparisonCalls = comparisonCalls + 1\n",
    "    multiplicationCalls = multiplicationCalls + 1\n",
    "    subtractionCalls = subtractionCalls + 1\n",
    "    additionCalls = additionCalls + 1\n",
    "    return arg1 * (1 - arg2) + 1"
   ]
  },
  {
   "cell_type": "code",
   "execution_count": 14,
   "metadata": {},
   "outputs": [],
   "source": [
    "#Вычисление функции Не (А и Б)\n",
    "def notAndAB(arg1, arg2):\n",
    "    global Lsum\n",
    "    global Lavg\n",
    "    global multiplicationCalls\n",
    "    \n",
    "    Lsum += multiplicationTime\n",
    "    Lavg += multiplicationTime * r\n",
    "    multiplicationCalls = multiplicationCalls + 1\n",
    "    return arg1 * arg2\n"
   ]
  },
  {
   "cell_type": "code",
   "execution_count": 15,
   "metadata": {},
   "outputs": [],
   "source": [
    "m = 2                                   #int(input())\n",
    "p = 2                         #int(input())\n",
    "q = 2                       #int(input())\n",
    "n = 2                           #int(input('Nuber of pe'))\n",
    "\n",
    "additionTime = 1                  #int(input('t сложения '))\n",
    "subtractionTime = 1          #int(input('t вычитания '))\n",
    "multiplicationTime = 1        #int(input('t умножения '))\n",
    "divisionTime = 1             #int(input('t деления '))\n",
    "comparisonTime = 1             #int(input('t сравнения '))"
   ]
  },
  {
   "cell_type": "code",
   "execution_count": 16,
   "metadata": {},
   "outputs": [
    {
     "name": "stdout",
     "output_type": "stream",
     "text": [
      "a\n",
      "-0.05322983793274272 -0.17791573972480235 \n",
      "-0.32415392433471335 0.22039612828249244 \n",
      "\n",
      "b\n",
      "-0.08223573272020102 0.06870930333170944 \n",
      "-0.65220234702502 0.7991760380204165 \n",
      "\n",
      "e\n",
      "0.10834480216944753 0.015563189683183376 \n",
      "\n",
      "g\n",
      "-0.17472259238493515 -0.8613164230764778 \n",
      "0.8410404419792603 -0.9297688118476286 \n",
      "\n",
      "c\n",
      "[-0.37929036 -0.37929036] [-9.54120963 -9.54120963] \n",
      "[0.16930304 0.16930304] [-7.79166059 -7.79166059] \n",
      "\n"
     ]
    }
   ],
   "source": [
    "r = p * q * m\n",
    "Lsum = 0\n",
    "Lavg = 0\n",
    "D = 0\n",
    "additionCalls = 0\n",
    "subtractionCalls = 0\n",
    "multiplicationCalls = 0\n",
    "divisionCalls = 0\n",
    "comparisonCalls = 0\n",
    "a = generateMatrix(p, m)\n",
    "b = generateMatrix(m, q)\n",
    "e = generateMatrix(1, m)\n",
    "g = generateMatrix(p, q)\n",
    "d = getDijk()\n",
    "f = getFijk()\n",
    "c = getCij()\n",
    "allSumTime = additionTime * additionCalls;\n",
    "allDifferenceTime = subtractionTime * subtractionCalls;\n",
    "allMultiplicityTime = multiplicationTime * multiplicationCalls;\n",
    "allDivisionTime = divisionTime * divisionCalls;\n",
    "allComparationTime = comparisonTime * comparisonCalls;\n",
    "allTime = allSumTime + allDifferenceTime + allMultiplicityTime + allDivisionTime + allComparationTime;\n",
    "\n",
    "T1 = allTime;\n",
    "Tn = int((allSumTime / n + allDifferenceTime / n + allMultiplicityTime / n + allDivisionTime / n + allComparationTime / n));\n",
    "Ky = T1 / Tn;\n",
    "E = Ky / n;\n",
    "Lavg += (comparisonTime + divisionTime + subtractionTime) * r;\n",
    "Lavg /= r;\n",
    "D = Lsum / Lavg;\n",
    "\n",
    "\n",
    "writeParameters()"
   ]
  },
  {
   "cell_type": "code",
   "execution_count": 17,
   "metadata": {},
   "outputs": [
    {
     "data": {
      "text/html": [
       "<div>\n",
       "<style scoped>\n",
       "    .dataframe tbody tr th:only-of-type {\n",
       "        vertical-align: middle;\n",
       "    }\n",
       "\n",
       "    .dataframe tbody tr th {\n",
       "        vertical-align: top;\n",
       "    }\n",
       "\n",
       "    .dataframe thead th {\n",
       "        text-align: right;\n",
       "    }\n",
       "</style>\n",
       "<table border=\"1\" class=\"dataframe\">\n",
       "  <thead>\n",
       "    <tr style=\"text-align: right;\">\n",
       "      <th></th>\n",
       "      <th>Операция</th>\n",
       "      <th>Cложение</th>\n",
       "      <th>Вычитание</th>\n",
       "      <th>Умножение</th>\n",
       "      <th>Деление</th>\n",
       "      <th>Сравнение</th>\n",
       "    </tr>\n",
       "  </thead>\n",
       "  <tbody>\n",
       "    <tr>\n",
       "      <th>0</th>\n",
       "      <td>Время</td>\n",
       "      <td>1.0</td>\n",
       "      <td>1.0</td>\n",
       "      <td>1.0</td>\n",
       "      <td>1.0</td>\n",
       "      <td>1.0</td>\n",
       "    </tr>\n",
       "    <tr>\n",
       "      <th>1</th>\n",
       "      <td>Cуммарное время операций</td>\n",
       "      <td>56.0</td>\n",
       "      <td>120.0</td>\n",
       "      <td>216.0</td>\n",
       "      <td>0.0</td>\n",
       "      <td>32.0</td>\n",
       "    </tr>\n",
       "  </tbody>\n",
       "</table>\n",
       "</div>"
      ],
      "text/plain": [
       "                   Операция  Cложение  Вычитание  Умножение  Деление  \\\n",
       "0                     Время       1.0        1.0        1.0      1.0   \n",
       "1  Cуммарное время операций      56.0      120.0      216.0      0.0   \n",
       "\n",
       "   Сравнение  \n",
       "0        1.0  \n",
       "1       32.0  "
      ]
     },
     "execution_count": 17,
     "metadata": {},
     "output_type": "execute_result"
    }
   ],
   "source": [
    "timeTable = pd.DataFrame()\n",
    "\n",
    "timeTable = timeTable.append(pd.Series([\"Время\", additionTime, subtractionTime, multiplicationTime, divisionTime, comparisonTime]),ignore_index=True)\n",
    "timeTable = timeTable.append(pd.Series([\"Cуммарное время операций\", allSumTime, allDifferenceTime, allMultiplicityTime, allDivisionTime, allComparationTime]),ignore_index=True)\n",
    "timeTable.columns = [\"Операция\", \"Cложение\", \"Вычитание\", \"Умножение\", \"Деление\", \"Сравнение\"]\n",
    "\n",
    "timeTable"
   ]
  },
  {
   "cell_type": "code",
   "execution_count": 18,
   "metadata": {},
   "outputs": [
    {
     "data": {
      "text/html": [
       "<div>\n",
       "<style scoped>\n",
       "    .dataframe tbody tr th:only-of-type {\n",
       "        vertical-align: middle;\n",
       "    }\n",
       "\n",
       "    .dataframe tbody tr th {\n",
       "        vertical-align: top;\n",
       "    }\n",
       "\n",
       "    .dataframe thead th {\n",
       "        text-align: right;\n",
       "    }\n",
       "</style>\n",
       "<table border=\"1\" class=\"dataframe\">\n",
       "  <thead>\n",
       "    <tr style=\"text-align: right;\">\n",
       "      <th></th>\n",
       "      <th>n</th>\n",
       "      <th>r</th>\n",
       "      <th>T1</th>\n",
       "      <th>Tn</th>\n",
       "      <th>Ky</th>\n",
       "      <th>e</th>\n",
       "      <th>Lsum</th>\n",
       "      <th>Lavg</th>\n",
       "      <th>D</th>\n",
       "    </tr>\n",
       "  </thead>\n",
       "  <tbody>\n",
       "    <tr>\n",
       "      <th>0</th>\n",
       "      <td>2.0</td>\n",
       "      <td>8.0</td>\n",
       "      <td>424.0</td>\n",
       "      <td>212.0</td>\n",
       "      <td>2.0</td>\n",
       "      <td>1.0</td>\n",
       "      <td>424.0</td>\n",
       "      <td>331.0</td>\n",
       "      <td>1.280967</td>\n",
       "    </tr>\n",
       "  </tbody>\n",
       "</table>\n",
       "</div>"
      ],
      "text/plain": [
       "     n    r     T1     Tn   Ky    e   Lsum   Lavg         D\n",
       "0  2.0  8.0  424.0  212.0  2.0  1.0  424.0  331.0  1.280967"
      ]
     },
     "execution_count": 18,
     "metadata": {},
     "output_type": "execute_result"
    }
   ],
   "source": [
    "informationTable = pd.DataFrame()\n",
    "\n",
    "informationTable = informationTable.append(pd.Series([n, r, T1, Tn, Ky, E, Lsum, Lavg, D]),ignore_index=True)\n",
    "informationTable.columns = [\"n\", \"r\", \"T1\", \"Tn\", \"Ky\", \"e\", \"Lsum\", \"Lavg\", \"D\"]\n",
    "\n",
    "informationTable"
   ]
  },
  {
   "cell_type": "code",
   "execution_count": null,
   "metadata": {},
   "outputs": [],
   "source": []
  }
 ],
 "metadata": {
  "kernelspec": {
   "display_name": "Python 3",
   "language": "python",
   "name": "python3"
  },
  "language_info": {
   "codemirror_mode": {
    "name": "ipython",
    "version": 3
   },
   "file_extension": ".py",
   "mimetype": "text/x-python",
   "name": "python",
   "nbconvert_exporter": "python",
   "pygments_lexer": "ipython3",
   "version": "3.7.6"
  }
 },
 "nbformat": 4,
 "nbformat_minor": 4
}
